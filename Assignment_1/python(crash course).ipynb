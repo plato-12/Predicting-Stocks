{
 "cells": [
  {
   "cell_type": "code",
   "execution_count": 2,
   "id": "4aff336b",
   "metadata": {},
   "outputs": [
    {
     "name": "stdout",
     "output_type": "stream",
     "text": [
      "2401\n"
     ]
    }
   ],
   "source": [
    "x = 7**4\n",
    "print(x)"
   ]
  },
  {
   "cell_type": "code",
   "execution_count": 5,
   "id": "57dfe9ed",
   "metadata": {},
   "outputs": [
    {
     "name": "stdout",
     "output_type": "stream",
     "text": [
      "['Hi', 'there', 'Sam!']\n"
     ]
    }
   ],
   "source": [
    "s = \"Hi there Sam!\"\n",
    "l = s.split()\n",
    "print(l)"
   ]
  },
  {
   "cell_type": "code",
   "execution_count": 7,
   "id": "49092e99",
   "metadata": {},
   "outputs": [
    {
     "name": "stdout",
     "output_type": "stream",
     "text": [
      "The diameter of Earth is 12742 kilometers.\n"
     ]
    }
   ],
   "source": [
    "planet = 'Earth'\n",
    "diameter = 12742\n",
    "s = \"The diameter of {} is {} kilometers.\".format(planet, diameter)\n",
    "print(s)"
   ]
  },
  {
   "cell_type": "code",
   "execution_count": 9,
   "id": "96ea0e97",
   "metadata": {},
   "outputs": [
    {
     "name": "stdout",
     "output_type": "stream",
     "text": [
      "hello\n"
     ]
    }
   ],
   "source": [
    "lst = [1,2,[3,4],[5,[100,200,['hello']],23,11],1,7]\n",
    "a = lst[3][1][2][0]\n",
    "print(a)"
   ]
  },
  {
   "cell_type": "code",
   "execution_count": 11,
   "id": "dd7fda98",
   "metadata": {},
   "outputs": [
    {
     "name": "stdout",
     "output_type": "stream",
     "text": [
      "hello\n"
     ]
    }
   ],
   "source": [
    "d = {'k1':[1,2,3,{'tricky':['oh','man','inception',{'target':[1,2,3,'hello']}]}]}\n",
    "b = d['k1'][3]['tricky'][3]['target'][3]\n",
    "print(b)"
   ]
  },
  {
   "cell_type": "code",
   "execution_count": 21,
   "id": "192b738c",
   "metadata": {},
   "outputs": [
    {
     "name": "stdout",
     "output_type": "stream",
     "text": [
      "iitk.ac.in\n"
     ]
    }
   ],
   "source": [
    "def domainGet(string):\n",
    "    return string.split('@')\n",
    "    \n",
    "s = \"arnavs21@iitk.ac.in\"\n",
    "print(domainGet(s)[1])"
   ]
  },
  {
   "cell_type": "code",
   "execution_count": 26,
   "id": "5288aa03",
   "metadata": {},
   "outputs": [
    {
     "name": "stdout",
     "output_type": "stream",
     "text": [
      "True\n"
     ]
    }
   ],
   "source": [
    "def findDog(s):\n",
    "    return 'dog' in s.lower().split()\n",
    "    \n",
    "    \n",
    "print(findDog(\"Is there a dog here?\"))"
   ]
  },
  {
   "cell_type": "code",
   "execution_count": 27,
   "id": "09f72a06",
   "metadata": {},
   "outputs": [
    {
     "name": "stdout",
     "output_type": "stream",
     "text": [
      "2\n"
     ]
    }
   ],
   "source": [
    "def CountDog(s):\n",
    "    ans = 0\n",
    "    for w in s.lower().split():\n",
    "        if(w == 'dog'):\n",
    "            ans += 1\n",
    "            \n",
    "    return ans\n",
    "\n",
    "print(CountDog('This dog runs faster than the other dog dude!'))"
   ]
  },
  {
   "cell_type": "code",
   "execution_count": 40,
   "id": "ac4de805",
   "metadata": {},
   "outputs": [
    {
     "data": {
      "text/plain": [
       "['soup', 'salad']"
      ]
     },
     "execution_count": 40,
     "metadata": {},
     "output_type": "execute_result"
    }
   ],
   "source": [
    "seq = ['soup','dog','salad','cat','great']\n",
    "list(filter(lambda s : s[0] == 's', seq)) \n"
   ]
  },
  {
   "cell_type": "code",
   "execution_count": 49,
   "id": "63a487aa",
   "metadata": {},
   "outputs": [
    {
     "name": "stdout",
     "output_type": "stream",
     "text": [
      "Small Ticket\n",
      "Big Ticket\n"
     ]
    }
   ],
   "source": [
    "def caught_speeding(speed, is_birthday):\n",
    "    if is_birthday == True:\n",
    "        speed -= 5\n",
    "            \n",
    "    if speed <= 60:\n",
    "        print(\"No Ticket\")\n",
    "    elif (speed >= 61 and speed <= 80):\n",
    "        print(\"Small Ticket\")\n",
    "    else :\n",
    "        print(\"Big Ticket\")\n",
    "            \n",
    "caught_speeding(81,True)\n",
    "caught_speeding(81,False)"
   ]
  }
 ],
 "metadata": {
  "kernelspec": {
   "display_name": "Python 3 (ipykernel)",
   "language": "python",
   "name": "python3"
  },
  "language_info": {
   "codemirror_mode": {
    "name": "ipython",
    "version": 3
   },
   "file_extension": ".py",
   "mimetype": "text/x-python",
   "name": "python",
   "nbconvert_exporter": "python",
   "pygments_lexer": "ipython3",
   "version": "3.9.12"
  }
 },
 "nbformat": 4,
 "nbformat_minor": 5
}
