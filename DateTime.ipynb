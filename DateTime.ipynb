{
 "cells": [
  {
   "cell_type": "code",
   "execution_count": 1,
   "id": "0b424f23",
   "metadata": {},
   "outputs": [
    {
     "name": "stdout",
     "output_type": "stream",
     "text": [
      "8\n",
      "766799.0\n"
     ]
    }
   ],
   "source": [
    "from datetime import datetime\n",
    "a = datetime(2021, 10, 2, 0, 0, 0)\n",
    "b = datetime(2021, 10, 10, 20, 59, 59)\n",
    "out = b-a\n",
    "print(out.days)\n",
    "print(out.total_seconds())"
   ]
  },
  {
   "cell_type": "code",
   "execution_count": 4,
   "id": "c0ce20a6",
   "metadata": {},
   "outputs": [
    {
     "data": {
      "text/plain": [
       "2021"
      ]
     },
     "execution_count": 4,
     "metadata": {},
     "output_type": "execute_result"
    }
   ],
   "source": [
    "a.year"
   ]
  },
  {
   "cell_type": "code",
   "execution_count": 5,
   "id": "97570d36",
   "metadata": {},
   "outputs": [
    {
     "data": {
      "text/plain": [
       "10"
      ]
     },
     "execution_count": 5,
     "metadata": {},
     "output_type": "execute_result"
    }
   ],
   "source": [
    "a.month"
   ]
  },
  {
   "cell_type": "code",
   "execution_count": 6,
   "id": "22a41af7",
   "metadata": {
    "scrolled": true
   },
   "outputs": [
    {
     "data": {
      "text/plain": [
       "2"
      ]
     },
     "execution_count": 6,
     "metadata": {},
     "output_type": "execute_result"
    }
   ],
   "source": [
    "a.day"
   ]
  },
  {
   "cell_type": "code",
   "execution_count": 7,
   "id": "e5589392",
   "metadata": {},
   "outputs": [
    {
     "data": {
      "text/plain": [
       "0"
      ]
     },
     "execution_count": 7,
     "metadata": {},
     "output_type": "execute_result"
    }
   ],
   "source": [
    "a.hour"
   ]
  },
  {
   "cell_type": "code",
   "execution_count": 8,
   "id": "e35d0c46",
   "metadata": {},
   "outputs": [
    {
     "data": {
      "text/plain": [
       "0"
      ]
     },
     "execution_count": 8,
     "metadata": {},
     "output_type": "execute_result"
    }
   ],
   "source": [
    "a.minute"
   ]
  },
  {
   "cell_type": "code",
   "execution_count": 9,
   "id": "17dfbc5d",
   "metadata": {},
   "outputs": [
    {
     "data": {
      "text/plain": [
       "0"
      ]
     },
     "execution_count": 9,
     "metadata": {},
     "output_type": "execute_result"
    }
   ],
   "source": [
    "a.second"
   ]
  },
  {
   "cell_type": "code",
   "execution_count": 24,
   "id": "a1ae0db7",
   "metadata": {},
   "outputs": [
    {
     "name": "stdout",
     "output_type": "stream",
     "text": [
      "2021-10-02 00:00:00\n"
     ]
    }
   ],
   "source": [
    "now = datetime(2021, 10, 2, 0, 0, 0)\n",
    "print(now)"
   ]
  },
  {
   "cell_type": "code",
   "execution_count": 25,
   "id": "199c83d5",
   "metadata": {},
   "outputs": [
    {
     "name": "stdout",
     "output_type": "stream",
     "text": [
      "YEAR :  2021\n"
     ]
    }
   ],
   "source": [
    "years = now.strftime(\"%Y\")\n",
    "print(\"YEAR : \", years)"
   ]
  },
  {
   "cell_type": "code",
   "execution_count": 26,
   "id": "6574533d",
   "metadata": {},
   "outputs": [
    {
     "name": "stdout",
     "output_type": "stream",
     "text": [
      "MONTH :  10\n",
      "Month :  Oct\n"
     ]
    }
   ],
   "source": [
    "month = now.strftime(\"%m\")\n",
    "print(\"MONTH : \", month)\n",
    "month = now.strftime(\"%b\")\n",
    "print(\"Month : \", month)"
   ]
  },
  {
   "cell_type": "code",
   "execution_count": 27,
   "id": "c4b8410a",
   "metadata": {},
   "outputs": [
    {
     "name": "stdout",
     "output_type": "stream",
     "text": [
      "Day :  02\n"
     ]
    }
   ],
   "source": [
    "day = now.strftime(\"%d\")\n",
    "print(\"Day : \", day)"
   ]
  },
  {
   "cell_type": "code",
   "execution_count": 28,
   "id": "36ea7ed5",
   "metadata": {},
   "outputs": [
    {
     "name": "stdout",
     "output_type": "stream",
     "text": [
      "Time :  00:00:00\n"
     ]
    }
   ],
   "source": [
    "time = now.strftime(\"%H:%M:%S\")\n",
    "print(\"Time : \", time)"
   ]
  },
  {
   "cell_type": "code",
   "execution_count": 30,
   "id": "3172aa7b",
   "metadata": {},
   "outputs": [
    {
     "name": "stdout",
     "output_type": "stream",
     "text": [
      "date_time :  02 Oct 2021 00:00:00\n"
     ]
    }
   ],
   "source": [
    "date_time = now.strftime(\"%d %b %Y %H:%M:%S\")\n",
    "print(\"date_time : \", date_time)"
   ]
  }
 ],
 "metadata": {
  "kernelspec": {
   "display_name": "Python 3 (ipykernel)",
   "language": "python",
   "name": "python3"
  },
  "language_info": {
   "codemirror_mode": {
    "name": "ipython",
    "version": 3
   },
   "file_extension": ".py",
   "mimetype": "text/x-python",
   "name": "python",
   "nbconvert_exporter": "python",
   "pygments_lexer": "ipython3",
   "version": "3.9.12"
  }
 },
 "nbformat": 4,
 "nbformat_minor": 5
}
